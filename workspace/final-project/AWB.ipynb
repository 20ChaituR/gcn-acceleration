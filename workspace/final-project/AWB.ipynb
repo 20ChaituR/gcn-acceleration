{
 "cells": [
  {
   "cell_type": "code",
   "execution_count": null,
   "id": "faeed0c6",
   "metadata": {},
   "outputs": [],
   "source": [
    "import pandas as pd\n",
    "import numpy as np\n",
    "from loaders import *\n",
    "import pandas as pd\n",
    "import seaborn as sns"
   ]
  },
  {
   "cell_type": "code",
   "execution_count": null,
   "id": "68c3dbec",
   "metadata": {},
   "outputs": [],
   "source": [
    "baseline = [run_timeloop_model(\n",
    "    , # AWB-GCN arch\n",
    "    ConfigRegistry.BASELINE_COMPONENTS,\n",
    "    prob,\n",
    "    , # sparse constraint supporting compression format\n",
    "    ConfigRegistry.BASELINE_MAPPER\n",
    ") for prob in [\n",
    "    ConfigRegistry.PROB_LAYER1,\n",
    "    ConfigRegistry.PROB_LAYER2,\n",
    "    ConfigRegistry.PROB_LAYER3,\n",
    "    ConfigRegistry.PROB_LAYER4]]"
   ]
  }
 ],
 "metadata": {
  "kernelspec": {
   "display_name": "Python 3 (ipykernel)",
   "language": "python",
   "name": "python3"
  },
  "language_info": {
   "codemirror_mode": {
    "name": "ipython",
    "version": 3
   },
   "file_extension": ".py",
   "mimetype": "text/x-python",
   "name": "python",
   "nbconvert_exporter": "python",
   "pygments_lexer": "ipython3",
   "version": "3.8.10"
  }
 },
 "nbformat": 4,
 "nbformat_minor": 5
}
