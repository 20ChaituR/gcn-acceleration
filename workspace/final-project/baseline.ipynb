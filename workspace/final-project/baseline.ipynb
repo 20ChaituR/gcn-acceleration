{
 "cells": [
  {
   "cell_type": "code",
   "execution_count": 1,
   "id": "f99bb5fe",
   "metadata": {},
   "outputs": [],
   "source": [
    "import pandas as pd\n",
    "import numpy as np\n",
    "from loaders import *\n",
    "import pandas as pd\n",
    "import seaborn as sns"
   ]
  },
  {
   "cell_type": "markdown",
   "id": "468131ff",
   "metadata": {},
   "source": [
    "## No Sparse Optimization\n",
    "\n",
    "Latency and Energy for each layer:\n",
    "\n",
    "||**Latency (# of cycles)**| **Energy (pJ/Algorithmic-Compute)** |\n",
    "|-|-|-|\n",
    "|**Layer 1-Support**|18496|11.79|\n",
    "|**Layer 1-Output**|18496|11.79|\n",
    "|**Layer 2-Support**|2176|11.69|\n",
    "|**Layer 2-Output**|4624|11.79|"
   ]
  },
  {
   "cell_type": "code",
   "execution_count": 1,
   "id": "cbc2618a",
   "metadata": {},
   "outputs": [
    {
     "ename": "NameError",
     "evalue": "name 'run_timeloop_mapper' is not defined",
     "output_type": "error",
     "traceback": [
      "\u001b[0;31m---------------------------------------------------------------------------\u001b[0m",
      "\u001b[0;31mNameError\u001b[0m                                 Traceback (most recent call last)",
      "Cell \u001b[0;32mIn[1], line 1\u001b[0m\n\u001b[0;32m----> 1\u001b[0m l1_support \u001b[38;5;241m=\u001b[39m \u001b[43mrun_timeloop_mapper\u001b[49m(\n\u001b[1;32m      2\u001b[0m     ConfigRegistry\u001b[38;5;241m.\u001b[39mBASELINE_ARCH,\n\u001b[1;32m      3\u001b[0m     ConfigRegistry\u001b[38;5;241m.\u001b[39mBASELINE_COMPONENTS,\n\u001b[1;32m      4\u001b[0m     ConfigRegistry\u001b[38;5;241m.\u001b[39mBASELINE_PROB_L1_SUPPORT,\n\u001b[1;32m      5\u001b[0m     ConfigRegistry\u001b[38;5;241m.\u001b[39mBASELINE_MAPPER,\n\u001b[1;32m      6\u001b[0m     ConfigRegistry\u001b[38;5;241m.\u001b[39mBASELINE_CONSTRAINTS_SUPPORT\n\u001b[1;32m      7\u001b[0m )\n\u001b[1;32m      8\u001b[0m \u001b[38;5;28mprint\u001b[39m(l1_support[\u001b[38;5;241m0\u001b[39m])\n",
      "\u001b[0;31mNameError\u001b[0m: name 'run_timeloop_mapper' is not defined"
     ]
    }
   ],
   "source": [
    "l1_support = run_timeloop_mapper(\n",
    "    ConfigRegistry.BASELINE_ARCH,\n",
    "    ConfigRegistry.BASELINE_COMPONENTS,\n",
    "    ConfigRegistry.BASELINE_PROB_L1_SUPPORT,\n",
    "    ConfigRegistry.BASELINE_MAPPER,\n",
    "    ConfigRegistry.BASELINE_CONSTRAINTS_SUPPORT\n",
    ")\n",
    "print(l1_support[0])"
   ]
  },
  {
   "cell_type": "code",
   "execution_count": null,
   "id": "7c74ff89",
   "metadata": {},
   "outputs": [],
   "source": [
    "l1_output = run_timeloop_mapper(\n",
    "    ConfigRegistry.BASELINE_ARCH,\n",
    "    ConfigRegistry.BASELINE_COMPONENTS,\n",
    "    ConfigRegistry.BASELINE_PROB_L1_OUTPUT,\n",
    "    ConfigRegistry.BASELINE_MAPPER,\n",
    "    ConfigRegistry.BASELINE_CONSTRAINTS_OUTPUT\n",
    ")\n",
    "print(l1_output[0])"
   ]
  },
  {
   "cell_type": "code",
   "execution_count": null,
   "id": "d714cc55",
   "metadata": {},
   "outputs": [],
   "source": [
    "l2_support = run_timeloop_mapper(\n",
    "    ConfigRegistry.BASELINE_ARCH,\n",
    "    ConfigRegistry.BASELINE_COMPONENTS,\n",
    "    ConfigRegistry.BASELINE_PROB_L2_SUPPORT,\n",
    "    ConfigRegistry.BASELINE_MAPPER,\n",
    "    ConfigRegistry.BASELINE_CONSTRAINTS_SUPPORT\n",
    ")\n",
    "print(l2_support[0])"
   ]
  },
  {
   "cell_type": "code",
   "execution_count": null,
   "id": "dfdd8480",
   "metadata": {},
   "outputs": [],
   "source": [
    "l2_output = run_timeloop_mapper(\n",
    "    ConfigRegistry.BASELINE_ARCH,\n",
    "    ConfigRegistry.BASELINE_COMPONENTS,\n",
    "    ConfigRegistry.BASELINE_PROB_L2_OUTPUT,\n",
    "    ConfigRegistry.BASELINE_MAPPER,\n",
    "    ConfigRegistry.BASELINE_CONSTRAINTS_OUTPUT\n",
    ")\n",
    "print(l2_output[0])"
   ]
  },
  {
   "cell_type": "markdown",
   "id": "d9cc41ee",
   "metadata": {},
   "source": [
    "## Gating\n",
    "\n",
    "Support layers stay the same, as there is no sparsity. We implemented gating for the adjacency matrix. Latency and Energy for Output layers are:\n",
    "\n",
    "||**Latency (# of cycles)**| **Energy (pJ/Algorithmic-Compute)** |\n",
    "|-|-|-|\n",
    "|**Layer 1-Output**|2497|7.104|\n",
    "|**Layer 2-Output**|625|7.111|"
   ]
  },
  {
   "cell_type": "code",
   "execution_count": null,
   "id": "a0aced6d",
   "metadata": {},
   "outputs": [],
   "source": [
    "l1_output = run_timeloop_mapper(\n",
    "    ConfigRegistry.BASELINE_ARCH,\n",
    "    ConfigRegistry.BASELINE_COMPONENTS,\n",
    "    ConfigRegistry.BASELINE_PROB_L1_OUTPUT,\n",
    "    ConfigRegistry.BASELINE_MAPPER,\n",
    "    ConfigRegistry.BASELINE_CONSTRAINTS_OUTPUT,\n",
    "    ConfigRegistry.BASELINE_SPARSE_OPT / 'gating.yaml'\n",
    ")\n",
    "print(l1_output[0])"
   ]
  },
  {
   "cell_type": "code",
   "execution_count": null,
   "id": "2bfe0b8f",
   "metadata": {},
   "outputs": [],
   "source": [
    "l2_output = run_timeloop_mapper(\n",
    "    ConfigRegistry.BASELINE_ARCH,\n",
    "    ConfigRegistry.BASELINE_COMPONENTS,\n",
    "    ConfigRegistry.BASELINE_PROB_L2_OUTPUT,\n",
    "    ConfigRegistry.BASELINE_MAPPER,\n",
    "    ConfigRegistry.BASELINE_CONSTRAINTS_OUTPUT,\n",
    "    ConfigRegistry.BASELINE_SPARSE_OPT / 'gating.yaml'\n",
    ")\n",
    "print(l2_output[0])"
   ]
  },
  {
   "cell_type": "markdown",
   "id": "5568a656",
   "metadata": {},
   "source": [
    "## Skipping\n",
    "\n",
    "Same as before, but using skipping instead of gating. Latency and Energy for Output layers are:\n",
    "\n",
    "||**Latency (# of cycles)**| **Energy (pJ/Algorithmic-Compute)** |\n",
    "|-|-|-|\n",
    "|**Layer 1-Output**|2497|7.104|\n",
    "|**Layer 2-Output**|625|7.111|"
   ]
  },
  {
   "cell_type": "code",
   "execution_count": null,
   "id": "fdbd0681",
   "metadata": {},
   "outputs": [],
   "source": [
    "l1_output = run_timeloop_mapper(\n",
    "    ConfigRegistry.BASELINE_ARCH,\n",
    "    ConfigRegistry.BASELINE_COMPONENTS,\n",
    "    ConfigRegistry.BASELINE_PROB_L1_OUTPUT,\n",
    "    ConfigRegistry.BASELINE_MAPPER,\n",
    "    ConfigRegistry.BASELINE_CONSTRAINTS_OUTPUT,\n",
    "    ConfigRegistry.BASELINE_SPARSE_OPT / 'skipping.yaml'\n",
    ")\n",
    "print(l1_output[0])"
   ]
  },
  {
   "cell_type": "code",
   "execution_count": null,
   "id": "c9147e77",
   "metadata": {
    "scrolled": true
   },
   "outputs": [],
   "source": [
    "l2_output = run_timeloop_mapper(\n",
    "    ConfigRegistry.BASELINE_ARCH,\n",
    "    ConfigRegistry.BASELINE_COMPONENTS,\n",
    "    ConfigRegistry.BASELINE_PROB_L2_OUTPUT,\n",
    "    ConfigRegistry.BASELINE_MAPPER,\n",
    "    ConfigRegistry.BASELINE_CONSTRAINTS_OUTPUT,\n",
    "    ConfigRegistry.BASELINE_SPARSE_OPT / 'skipping.yaml'\n",
    ")\n",
    "print(l2_output[0])"
   ]
  },
  {
   "cell_type": "code",
   "execution_count": null,
   "id": "6f3e7efc",
   "metadata": {},
   "outputs": [],
   "source": []
  },
  {
   "cell_type": "code",
   "execution_count": null,
   "id": "babe8f97",
   "metadata": {},
   "outputs": [],
   "source": []
  }
 ],
 "metadata": {
  "kernelspec": {
   "display_name": "Python 3 (ipykernel)",
   "language": "python",
   "name": "python3"
  },
  "language_info": {
   "codemirror_mode": {
    "name": "ipython",
    "version": 3
   },
   "file_extension": ".py",
   "mimetype": "text/x-python",
   "name": "python",
   "nbconvert_exporter": "python",
   "pygments_lexer": "ipython3",
   "version": "3.8.10"
  }
 },
 "nbformat": 4,
 "nbformat_minor": 5
}
