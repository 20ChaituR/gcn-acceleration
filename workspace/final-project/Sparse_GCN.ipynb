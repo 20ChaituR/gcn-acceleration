import pandas as pd
import numpy as np
from loaders import *
import pandas as pd
import seaborn as sns

baseline = [run_timeloop_mapper(
    ConfigRegistry.BASELINE_ARCH,
    ConfigRegistry.BASELINE_COMPONENTS,
    prob, // The map
    , // The constraint for sparsity design
    ConfigRegistry.BASELINE_MAPPER
) for prob in [
    ConfigRegistry.PROB_LAYER1,
    ConfigRegistry.PROB_LAYER2,
    ConfigRegistry.PROB_LAYER3,
    ConfigRegistry.PROB_LAYER4]]
