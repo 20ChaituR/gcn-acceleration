{
 "cells": [
  {
   "cell_type": "code",
   "execution_count": 1,
   "id": "a2f85ed2",
   "metadata": {},
   "outputs": [],
   "source": [
    "import pandas as pd\n",
    "import numpy as np\n",
    "from loaders import *\n",
    "import pandas as pd\n",
    "import seaborn as sns"
   ]
  },
  {
   "cell_type": "code",
   "execution_count": 2,
   "id": "5df55af5",
   "metadata": {},
   "outputs": [
    {
     "name": "stdout",
     "output_type": "stream",
     "text": [
      "input file: tmp.yaml\n",
      "  _______                __                \n",
      " /_  __(_)___ ___  ___  / /___  ____  ____ \n",
      "  / / / / __ `__ \\/ _ \\/ / __ \\/ __ \\/ __ \\\n",
      " / / / / / / / / /  __/ / /_/ / /_/ / /_/ /\n",
      "/_/ /_/_/ /_/ /_/\\___/_/\\____/\\____/ .___/ \n",
      "                                  /_/      \n",
      "\n",
      "Problem configuration complete.\n",
      "Warning: neither block size nor cluster size specified, set according to specified storage width: block size: 1  cluster-size: 1\n",
      "Warning: neither block size nor cluster size specified, set according to specified storage width: block size: 1  cluster-size: 1\n",
      "Warning: neither block size nor cluster size specified, set according to specified storage width: block size: 1  cluster-size: 1\n",
      "Warning: neither block size nor cluster size specified, set according to specified storage width: block size: 1  cluster-size: 1\n",
      "Warning: neither block size nor cluster size specified, set according to specified storage width: block size: 1  cluster-size: 1\n",
      "execute:/usr/local/bin/accelergy tmp.yaml --oprefix timeloop-mapper. -o ./ > timeloop-mapper.accelergy.log 2>&1\n",
      "Generate Accelergy ERT (energy reference table) to replace internal energy model.\n",
      "Generate Accelergy ART (area reference table) to replace internal area model.\n",
      "Architecture configuration complete.\n",
      "[ERROR] 2023-05-07 20:14:26,429 - pytimeloop.app.mapper - Could not find timeloop-mapper.stats.txt\n",
      "[ERROR] 2023-05-07 20:14:26,430 - pytimeloop.app.mapper - Could not find timeloop-mapper.map.txt\n",
      "input file: tmp.yaml\n",
      "  _______                __                \n",
      " /_  __(_)___ ___  ___  / /___  ____  ____ \n",
      "  / / / / __ `__ \\/ _ \\/ / __ \\/ __ \\/ __ \\\n",
      " / / / / / / / / /  __/ / /_/ / /_/ / /_/ /\n",
      "/_/ /_/_/ /_/ /_/\\___/_/\\____/\\____/ .___/ \n",
      "                                  /_/      \n",
      "\n",
      "Problem configuration complete.\n",
      "Warning: neither block size nor cluster size specified, set according to specified storage width: block size: 1  cluster-size: 1\n",
      "Warning: neither block size nor cluster size specified, set according to specified storage width: block size: 1  cluster-size: 1\n",
      "Warning: neither block size nor cluster size specified, set according to specified storage width: block size: 1  cluster-size: 1\n",
      "Warning: neither block size nor cluster size specified, set according to specified storage width: block size: 1  cluster-size: 1\n",
      "Warning: neither block size nor cluster size specified, set according to specified storage width: block size: 1  cluster-size: 1\n",
      "execute:/usr/local/bin/accelergy tmp.yaml --oprefix timeloop-mapper. -o ./ > timeloop-mapper.accelergy.log 2>&1\n"
     ]
    },
    {
     "name": "stderr",
     "output_type": "stream",
     "text": [
      "ERROR: target storage level not found: BackingStorage\n"
     ]
    },
    {
     "name": "stdout",
     "output_type": "stream",
     "text": [
      "Generate Accelergy ERT (energy reference table) to replace internal energy model.\n",
      "Generate Accelergy ART (area reference table) to replace internal area model.\n",
      "Architecture configuration complete.\n",
      "[ERROR] 2023-05-07 20:14:26,694 - pytimeloop.app.mapper - Could not find timeloop-mapper.stats.txt\n",
      "[ERROR] 2023-05-07 20:14:26,694 - pytimeloop.app.mapper - Could not find timeloop-mapper.map.txt\n",
      "input file: tmp.yaml\n",
      "  _______                __                \n",
      " /_  __(_)___ ___  ___  / /___  ____  ____ \n",
      "  / / / / __ `__ \\/ _ \\/ / __ \\/ __ \\/ __ \\\n",
      " / / / / / / / / /  __/ / /_/ / /_/ / /_/ /\n",
      "/_/ /_/_/ /_/ /_/\\___/_/\\____/\\____/ .___/ \n",
      "                                  /_/      \n",
      "\n",
      "Problem configuration complete.\n",
      "Warning: neither block size nor cluster size specified, set according to specified storage width: block size: 1  cluster-size: 1\n",
      "Warning: neither block size nor cluster size specified, set according to specified storage width: block size: 1  cluster-size: 1\n",
      "Warning: neither block size nor cluster size specified, set according to specified storage width: block size: 1  cluster-size: 1\n",
      "Warning: neither block size nor cluster size specified, set according to specified storage width: block size: 1  cluster-size: 1\n",
      "Warning: neither block size nor cluster size specified, set according to specified storage width: block size: 1  cluster-size: 1\n",
      "execute:/usr/local/bin/accelergy tmp.yaml --oprefix timeloop-mapper. -o ./ > timeloop-mapper.accelergy.log 2>&1\n"
     ]
    },
    {
     "name": "stderr",
     "output_type": "stream",
     "text": [
      "ERROR: target storage level not found: BackingStorage\n"
     ]
    },
    {
     "name": "stdout",
     "output_type": "stream",
     "text": [
      "Generate Accelergy ERT (energy reference table) to replace internal energy model.\n",
      "Generate Accelergy ART (area reference table) to replace internal area model.\n",
      "Architecture configuration complete.\n",
      "[ERROR] 2023-05-07 20:14:26,952 - pytimeloop.app.mapper - Could not find timeloop-mapper.stats.txt\n",
      "[ERROR] 2023-05-07 20:14:26,953 - pytimeloop.app.mapper - Could not find timeloop-mapper.map.txt\n",
      "input file: tmp.yaml\n",
      "  _______                __                \n",
      " /_  __(_)___ ___  ___  / /___  ____  ____ \n",
      "  / / / / __ `__ \\/ _ \\/ / __ \\/ __ \\/ __ \\\n",
      " / / / / / / / / /  __/ / /_/ / /_/ / /_/ /\n",
      "/_/ /_/_/ /_/ /_/\\___/_/\\____/\\____/ .___/ \n",
      "                                  /_/      \n",
      "\n",
      "Problem configuration complete.\n",
      "Warning: neither block size nor cluster size specified, set according to specified storage width: block size: 1  cluster-size: 1\n",
      "Warning: neither block size nor cluster size specified, set according to specified storage width: block size: 1  cluster-size: 1\n",
      "Warning: neither block size nor cluster size specified, set according to specified storage width: block size: 1  cluster-size: 1\n",
      "Warning: neither block size nor cluster size specified, set according to specified storage width: block size: 1  cluster-size: 1\n",
      "Warning: neither block size nor cluster size specified, set according to specified storage width: block size: 1  cluster-size: 1\n",
      "execute:/usr/local/bin/accelergy tmp.yaml --oprefix timeloop-mapper. -o ./ > timeloop-mapper.accelergy.log 2>&1\n"
     ]
    },
    {
     "name": "stderr",
     "output_type": "stream",
     "text": [
      "ERROR: target storage level not found: BackingStorage\n"
     ]
    },
    {
     "name": "stdout",
     "output_type": "stream",
     "text": [
      "Generate Accelergy ERT (energy reference table) to replace internal energy model.\n",
      "Generate Accelergy ART (area reference table) to replace internal area model.\n",
      "Architecture configuration complete.\n",
      "[ERROR] 2023-05-07 20:14:27,233 - pytimeloop.app.mapper - Could not find timeloop-mapper.stats.txt\n",
      "[ERROR] 2023-05-07 20:14:27,234 - pytimeloop.app.mapper - Could not find timeloop-mapper.map.txt\n"
     ]
    },
    {
     "name": "stderr",
     "output_type": "stream",
     "text": [
      "ERROR: target storage level not found: BackingStorage\n"
     ]
    }
   ],
   "source": [
    "baseline = [run_timeloop_mapper(\n",
    "    ConfigRegistry.BASELINE_ARCH,\n",
    "    ConfigRegistry.BASELINE_COMPONENTS,\n",
    "    prob, \n",
    "    ConfigRegistry.UNTILED_SPARSE_OPT,\n",
    "    ConfigRegistry.BASELINE_MAPPER\n",
    ") for prob in [\n",
    "    ConfigRegistry.PROB_LAYER1,\n",
    "    ConfigRegistry.PROB_LAYER2,\n",
    "    ConfigRegistry.PROB_LAYER3,\n",
    "    ConfigRegistry.PROB_LAYER4]]"
   ]
  },
  {
   "cell_type": "code",
   "execution_count": null,
   "id": "cb911f8f",
   "metadata": {},
   "outputs": [],
   "source": []
  }
 ],
 "metadata": {
  "kernelspec": {
   "display_name": "Python 3 (ipykernel)",
   "language": "python",
   "name": "python3"
  },
  "language_info": {
   "codemirror_mode": {
    "name": "ipython",
    "version": 3
   },
   "file_extension": ".py",
   "mimetype": "text/x-python",
   "name": "python",
   "nbconvert_exporter": "python",
   "pygments_lexer": "ipython3",
   "version": "3.8.10"
  }
 },
 "nbformat": 4,
 "nbformat_minor": 5
}
